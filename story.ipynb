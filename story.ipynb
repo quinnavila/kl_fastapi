{
 "cells": [
  {
   "attachments": {},
   "cell_type": "markdown",
   "metadata": {},
   "source": [
    "# FastAPI starts up"
   ]
  },
  {
   "attachments": {},
   "cell_type": "markdown",
   "metadata": {},
   "source": [
    "```docker run -p 8000:8000 kl-fastapi-app:v1\n",
    "INFO:     Started server process [1]\n",
    "INFO:     Waiting for application startup.\n",
    "INFO:     Application startup complete.\n",
    "INFO:     Uvicorn running on http://0.0.0.0:8000 (Press CTRL+C to quit)"
   ]
  },
  {
   "cell_type": "code",
   "execution_count": 1,
   "metadata": {},
   "outputs": [],
   "source": [
    "import requests\n",
    "import pandas as pd"
   ]
  },
  {
   "attachments": {},
   "cell_type": "markdown",
   "metadata": {},
   "source": [
    "# Helper functions"
   ]
  },
  {
   "cell_type": "code",
   "execution_count": 2,
   "metadata": {},
   "outputs": [],
   "source": [
    "base_url = \"http://localhost:8000\"\n",
    "\n",
    "def lookup_vin(vin):\n",
    "    endpoint = f\"{base_url}/v1/lookup/{vin}\"\n",
    "    response = requests.get(endpoint)\n",
    "    # Handle the response as needed\n",
    "    print(response.json())\n",
    "\n",
    "def export_cache():\n",
    "    endpoint = f\"{base_url}/v1/export\"\n",
    "    response = requests.get(endpoint)\n",
    "    if response.status_code == 200:\n",
    "        filename = \"exported_file.parquet\" \n",
    "        with open(filename, \"wb\") as file:\n",
    "            file.write(response.content)\n",
    "        print(f\"Exported file downloaded and saved as {filename}\")\n",
    "    else:\n",
    "        print(\"Export failed\")\n",
    "\n",
    "def delete_vin(vin):\n",
    "    endpoint = f\"{base_url}/v1/remove/{vin}\"\n",
    "    response = requests.delete(endpoint)\n",
    "    # Handle the response as needed\n",
    "    print(response.json())"
   ]
  },
  {
   "attachments": {},
   "cell_type": "markdown",
   "metadata": {},
   "source": [
    "# Lookup Vin's"
   ]
  },
  {
   "cell_type": "code",
   "execution_count": 3,
   "metadata": {},
   "outputs": [
    {
     "name": "stdout",
     "output_type": "stream",
     "text": [
      "{'vin': '1XPWD40X1ED215307', 'make': 'PETERBILT', 'model': '388', 'model_year': '2014', 'body_class': 'Truck-Tractor', 'cached': False}\n",
      "{'vin': '1XKWDB0X57J211825', 'make': 'KENWORTH', 'model': 'W9 Series', 'model_year': '2007', 'body_class': 'Truck-Tractor', 'cached': False}\n",
      "{'vin': '1XP5DB9X7YN526158', 'make': 'PETERBILT', 'model': '379', 'model_year': '2000', 'body_class': 'Truck-Tractor', 'cached': False}\n",
      "{'vin': '4V4NC9EJXEN171694', 'make': 'VOLVO TRUCK', 'model': 'VNL', 'model_year': '2014', 'body_class': 'Truck-Tractor', 'cached': False}\n",
      "{'vin': '1XP5DB9X7XD487964', 'make': 'PETERBILT', 'model': '379', 'model_year': '1999', 'body_class': 'Truck-Tractor', 'cached': False}\n"
     ]
    }
   ],
   "source": [
    "vins = [\"1XPWD40X1ED215307\", \"1XKWDB0X57J211825\", \"1XP5DB9X7YN526158\", \"4V4NC9EJXEN171694\", \"1XP5DB9X7XD487964\"]\n",
    "# Lookup VINs\n",
    "for vin in vins:\n",
    "    lookup_vin(vin)\n"
   ]
  },
  {
   "attachments": {},
   "cell_type": "markdown",
   "metadata": {},
   "source": [
    "# Now from cache"
   ]
  },
  {
   "cell_type": "code",
   "execution_count": 4,
   "metadata": {},
   "outputs": [
    {
     "name": "stdout",
     "output_type": "stream",
     "text": [
      "{'vin': '1XPWD40X1ED215307', 'make': 'PETERBILT', 'model': '388', 'model_year': '2014', 'body_class': 'Truck-Tractor', 'cached': True}\n",
      "{'vin': '1XKWDB0X57J211825', 'make': 'KENWORTH', 'model': 'W9 Series', 'model_year': '2007', 'body_class': 'Truck-Tractor', 'cached': True}\n",
      "{'vin': '1XP5DB9X7YN526158', 'make': 'PETERBILT', 'model': '379', 'model_year': '2000', 'body_class': 'Truck-Tractor', 'cached': True}\n",
      "{'vin': '4V4NC9EJXEN171694', 'make': 'VOLVO TRUCK', 'model': 'VNL', 'model_year': '2014', 'body_class': 'Truck-Tractor', 'cached': True}\n",
      "{'vin': '1XP5DB9X7XD487964', 'make': 'PETERBILT', 'model': '379', 'model_year': '1999', 'body_class': 'Truck-Tractor', 'cached': True}\n"
     ]
    }
   ],
   "source": [
    "for vin in vins:\n",
    "    lookup_vin(vin)"
   ]
  },
  {
   "cell_type": "code",
   "execution_count": 5,
   "metadata": {},
   "outputs": [
    {
     "name": "stdout",
     "output_type": "stream",
     "text": [
      "Exported file downloaded and saved as exported_file.parquet\n"
     ]
    }
   ],
   "source": [
    "# Export cache\n",
    "export_cache()"
   ]
  },
  {
   "attachments": {},
   "cell_type": "markdown",
   "metadata": {},
   "source": [
    "```INFO:     172.17.0.1:35826 - \"GET /v1/export HTTP/1.1\" 200 OK"
   ]
  },
  {
   "cell_type": "code",
   "execution_count": 6,
   "metadata": {},
   "outputs": [
    {
     "name": "stdout",
     "output_type": "stream",
     "text": [
      "                 vin         make      model model_year     body_class\n",
      "0  1XPWD40X1ED215307    PETERBILT        388       2014  Truck-Tractor\n",
      "1  1XKWDB0X57J211825     KENWORTH  W9 Series       2007  Truck-Tractor\n",
      "2  1XP5DB9X7YN526158    PETERBILT        379       2000  Truck-Tractor\n",
      "3  4V4NC9EJXEN171694  VOLVO TRUCK        VNL       2014  Truck-Tractor\n",
      "4  1XP5DB9X7XD487964    PETERBILT        379       1999  Truck-Tractor\n"
     ]
    }
   ],
   "source": [
    "df = pd.read_parquet(\"exported_file.parquet\")\n",
    "print(df)"
   ]
  },
  {
   "attachments": {},
   "cell_type": "markdown",
   "metadata": {},
   "source": [
    "# Delete Vin's"
   ]
  },
  {
   "cell_type": "code",
   "execution_count": 7,
   "metadata": {},
   "outputs": [
    {
     "name": "stdout",
     "output_type": "stream",
     "text": [
      "{'message': 'Successfully removed VIN: 1XPWD40X1ED215307.'}\n",
      "{'message': 'Successfully removed VIN: 1XKWDB0X57J211825.'}\n",
      "{'message': 'Successfully removed VIN: 1XP5DB9X7YN526158.'}\n",
      "{'message': 'Successfully removed VIN: 4V4NC9EJXEN171694.'}\n",
      "{'message': 'Successfully removed VIN: 1XP5DB9X7XD487964.'}\n"
     ]
    }
   ],
   "source": [
    "# Delete VINs\n",
    "for vin in vins:\n",
    "    delete_vin(vin)"
   ]
  }
 ],
 "metadata": {
  "kernelspec": {
   "display_name": "practice2",
   "language": "python",
   "name": "python3"
  },
  "language_info": {
   "codemirror_mode": {
    "name": "ipython",
    "version": 3
   },
   "file_extension": ".py",
   "mimetype": "text/x-python",
   "name": "python",
   "nbconvert_exporter": "python",
   "pygments_lexer": "ipython3",
   "version": "3.11.1"
  },
  "orig_nbformat": 4
 },
 "nbformat": 4,
 "nbformat_minor": 2
}
